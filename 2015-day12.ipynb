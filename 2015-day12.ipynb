{
 "cells": [
  {
   "cell_type": "markdown",
   "metadata": {},
   "source": [
    "# Advent of Code 2015\n",
    "\n",
    "## Day 12: JSAbacusFramework.io\n",
    "\n",
    "\n",
    "https://adventofcode.com/2015/day/12\n",
    "\n",
    "Santa's Accounting-Elves need help balancing the books after a recent order. Unfortunately, their accounting software uses a peculiar storage format.\n",
    "\n",
    "They have a JSON document which contains a variety of things: arrays (`[1,2,3]`), objects (`{\"a\":1, \"b\":2}`), numbers, and strings. Your first job is to simply find all of the numbers throughout the document and add them together.\n",
    "\n",
    "You will not encounter any strings containing numbers."
   ]
  },
  {
   "cell_type": "code",
   "execution_count": 8,
   "metadata": {},
   "outputs": [],
   "source": [
    "(require racket)"
   ]
  },
  {
   "cell_type": "markdown",
   "metadata": {},
   "source": [
    "The first thing we need to do is load up our test data into a string. Racket has a handy function for this, `file->lines`, but as our data is a single line, we need to pick the first entry in the list that it returns."
   ]
  },
  {
   "cell_type": "code",
   "execution_count": 9,
   "metadata": {},
   "outputs": [],
   "source": [
    "(define data-str (first (file->lines \"data/input12.data\")))"
   ]
  },
  {
   "cell_type": "markdown",
   "metadata": {},
   "source": [
    "We don't even need to parse the json. As we're told that no strings contain numbers, we can simply grab all the numbers with a regular expression. A simple regex for numbers we can use is `/-?\\d+/`, meaning an optional dash followed by 1 or more digits. \n",
    "\n",
    "In Racket we write this as\n",
    "\n",
    "```scheme\n",
    "(regexp-match* #px\"-?\\\\d+\" data-str)\n",
    "```\n",
    "\n",
    "noting that we need to escape the backslash. Let's examine the first few values we get from that:"
   ]
  },
  {
   "cell_type": "code",
   "execution_count": 16,
   "metadata": {},
   "outputs": [
    {
     "data": {
      "text/html": [
       "<code>'(\"161\" \"-14\" \"-35\" \"0\" \"70\" \"12\" \"69\" \"92\" \"121\" \"14\")</code>"
      ],
      "text/plain": [
       "'(\"161\" \"-14\" \"-35\" \"0\" \"70\" \"12\" \"69\" \"92\" \"121\" \"14\")"
      ]
     },
     "execution_count": 16,
     "metadata": {},
     "output_type": "execute_result"
    }
   ],
   "source": [
    "(take (regexp-match* #px\"-?\\\\d+\" data-str) 10)"
   ]
  },
  {
   "cell_type": "markdown",
   "metadata": {},
   "source": [
    "Ok, that captures the right bits, but if we're to sum them up we need to convert the strings to actual numbers:"
   ]
  },
  {
   "cell_type": "code",
   "execution_count": 18,
   "metadata": {},
   "outputs": [
    {
     "data": {
      "text/html": [
       "<code>'(161 -14 -35 0 70 12 69 92 121 14)</code>"
      ],
      "text/plain": [
       "'(161 -14 -35 0 70 12 69 92 121 14)"
      ]
     },
     "execution_count": 18,
     "metadata": {},
     "output_type": "execute_result"
    }
   ],
   "source": [
    "(take (map string->number (regexp-match* #px\"-?\\\\d+\" data-str)) 10)"
   ]
  },
  {
   "cell_type": "markdown",
   "metadata": {},
   "source": [
    "That looks better! Now we can just add them up. The `math` module has a handy function to `sum` a list of numbers:"
   ]
  },
  {
   "cell_type": "code",
   "execution_count": 20,
   "metadata": {},
   "outputs": [],
   "source": [
    "(require math)"
   ]
  },
  {
   "cell_type": "code",
   "execution_count": 21,
   "metadata": {},
   "outputs": [
    {
     "data": {
      "text/html": [
       "<code>156366</code>"
      ],
      "text/plain": [
       "156366"
      ]
     },
     "execution_count": 21,
     "metadata": {},
     "output_type": "execute_result"
    }
   ],
   "source": [
    "(sum (map string->number (regexp-match* #px\"-?\\\\d+\" data-str)))"
   ]
  },
  {
   "cell_type": "markdown",
   "metadata": {},
   "source": [
    "Which is the correct answer for Part 1."
   ]
  },
  {
   "cell_type": "markdown",
   "metadata": {},
   "source": [
    "### Part 2\n",
    "\n",
    "For part 2, we are to exclude any `object` and its descendants in the json which has a VALUE `red`. Lists and scalars are to be left as-is. What's the sum now?\n",
    "\n",
    "For this we'll need to parse the json properly, so we start with requiring Racket's `json` module, and store the parsed json in a variable called `json-data`."
   ]
  },
  {
   "cell_type": "code",
   "execution_count": 22,
   "metadata": {},
   "outputs": [],
   "source": [
    "(require json)"
   ]
  },
  {
   "cell_type": "code",
   "execution_count": 23,
   "metadata": {},
   "outputs": [],
   "source": [
    "(define json-data (with-input-from-string data-str read-json))"
   ]
  },
  {
   "cell_type": "markdown",
   "metadata": {},
   "source": [
    "We need a predicate function to tell us if a json object (converted to a Racket hash) contains a particular value. The building blocks are `hash-values` which returns a list, and `member` which somewhat awkwardly returns either false, or the sub-list starting from the value."
   ]
  },
  {
   "cell_type": "code",
   "execution_count": 24,
   "metadata": {},
   "outputs": [],
   "source": [
    "(define (hash-has-value? haystack needle)\n",
    "  (if (not (member needle (hash-values haystack))) #f #t))"
   ]
  },
  {
   "cell_type": "markdown",
   "metadata": {},
   "source": [
    "We can test that. Testing is good."
   ]
  },
  {
   "cell_type": "code",
   "execution_count": 25,
   "metadata": {},
   "outputs": [
    {
     "data": {
      "text/html": [
       "<code>#f</code>"
      ],
      "text/plain": [
       "#f"
      ]
     },
     "execution_count": 25,
     "metadata": {},
     "output_type": "execute_result"
    }
   ],
   "source": [
    "(hash-has-value? (hash \"one\" 1 \"two\" 2) 3)"
   ]
  },
  {
   "cell_type": "code",
   "execution_count": 26,
   "metadata": {},
   "outputs": [
    {
     "data": {
      "text/html": [
       "<code>#t</code>"
      ],
      "text/plain": [
       "#t"
      ]
     },
     "execution_count": 26,
     "metadata": {},
     "output_type": "execute_result"
    }
   ],
   "source": [
    "(hash-has-value? (hash \"one\" 1 \"two\" 2) 2)"
   ]
  },
  {
   "cell_type": "markdown",
   "metadata": {},
   "source": [
    "JSON is defined recursively. Racket is good at processing recursive structures. We have four cases -- the json bit we're considering is a number, add that to our sum. If it's a list, then we need to recursively consider its components. If it's an object, we recursively consider its values, unless it contains a key `red`. In all other cases we skip.\n",
    "\n",
    "We get a lot of help from Racket's rich set of list comprehensions and sequence operators here, for example `for/sum`."
   ]
  },
  {
   "cell_type": "code",
   "execution_count": 30,
   "metadata": {},
   "outputs": [],
   "source": [
    "(define (sum-without-reds json-value)\n",
    "  (cond [(number? json-value) json-value]                                   ; number, just return it\n",
    "        [(and (hash? json-value) (not (hash-has-value? json-value \"red\")))  ; object-without-red\n",
    "          (for/sum ([v (in-hash-values json-value)]) \n",
    "            (sum-without-reds v))]                                          ; recursively sum its values\n",
    "        [(list? json-value)                                                 ; array\n",
    "         (for/sum ([v (in-list json-value)]) \n",
    "           (sum-without-reds v))]                                           ; recursively sum its members\n",
    "        [else 0]))                                                          ; otherwise, skip; no change"
   ]
  },
  {
   "cell_type": "code",
   "execution_count": 31,
   "metadata": {},
   "outputs": [
    {
     "data": {
      "text/html": [
       "<code>96852</code>"
      ],
      "text/plain": [
       "96852"
      ]
     },
     "execution_count": 31,
     "metadata": {},
     "output_type": "execute_result"
    }
   ],
   "source": [
    "(sum-without-reds json-data)"
   ]
  },
  {
   "cell_type": "markdown",
   "metadata": {},
   "source": [
    "Two gold stars!"
   ]
  },
  {
   "cell_type": "code",
   "execution_count": null,
   "metadata": {},
   "outputs": [],
   "source": []
  }
 ],
 "metadata": {
  "kernelspec": {
   "display_name": "Racket",
   "language": "racket",
   "name": "racket"
  },
  "language_info": {
   "codemirror_mode": "scheme",
   "file_extension": ".rkt",
   "mimetype": "text/x-racket",
   "name": "Racket",
   "pygments_lexer": "racket",
   "version": "7.3"
  }
 },
 "nbformat": 4,
 "nbformat_minor": 2
}
