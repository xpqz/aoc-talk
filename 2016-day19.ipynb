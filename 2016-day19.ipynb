{
 "cells": [
  {
   "cell_type": "markdown",
   "metadata": {},
   "source": [
    "# Advent of Code 2016\n",
    "\n",
    "## Day 19: An Elephant Named Joseph \n",
    "\n",
    "\n",
    "https://adventofcode.com/2016/day/19\n",
    "\n",
    "\n",
    "Each Elf brings a present. They all sit in a circle, numbered starting with position 1. Then, starting with the first Elf, they take turns stealing all the presents from the Elf to their left. An Elf with no presents is removed from the circle and does not take turns.\n",
    "\n",
    "For example, with five Elves (numbered 1 to 5):\n",
    "\n",
    "```\n",
    "  1\n",
    "5   2\n",
    " 4 3\n",
    "```\n",
    "\n",
    "    Elf 1 takes Elf 2's present.\n",
    "    Elf 2 has no presents and is skipped.\n",
    "    Elf 3 takes Elf 4's present.\n",
    "    Elf 4 has no presents and is also skipped.\n",
    "    Elf 5 takes Elf 1's two presents.\n",
    "    Neither Elf 1 nor Elf 2 have any presents, so both are skipped.\n",
    "    Elf 3 takes Elf 5's three presents.\n",
    "\n",
    "So, with five Elves, the Elf that sits starting in position 3 gets all the presents.\n",
    "\n",
    "With the number of Elves given in your puzzle input, which Elf gets all the presents?"
   ]
  },
  {
   "cell_type": "markdown",
   "metadata": {},
   "source": [
    "It seems trivial, but there is a sting in the tail. \n",
    "\n",
    "Let's try the naive solution first. Create a list of numbers representing the elves, and just loop around that, deleting any zeros until we have a single elf left"
   ]
  },
  {
   "cell_type": "code",
   "execution_count": 37,
   "metadata": {},
   "outputs": [],
   "source": [
    "def steal_next(elfcount):\n",
    "    circle = list(range(1, elfcount+1))\n",
    "\n",
    "    target = 0\n",
    "    while elfcount > 1:\n",
    "        target = (target+1) % elfcount\n",
    "        del circle[target]\n",
    "        elfcount -= 1\n",
    "\n",
    "    return circle[0]"
   ]
  },
  {
   "cell_type": "markdown",
   "metadata": {},
   "source": [
    "We can test that on the example given:"
   ]
  },
  {
   "cell_type": "code",
   "execution_count": 38,
   "metadata": {},
   "outputs": [
    {
     "data": {
      "text/plain": [
       "3"
      ]
     },
     "execution_count": 38,
     "metadata": {},
     "output_type": "execute_result"
    }
   ],
   "source": [
    "steal_next(5)"
   ]
  },
  {
   "cell_type": "markdown",
   "metadata": {},
   "source": [
    "Yay! Winner! Let's try on the actual data we're given, `3_014_603`:"
   ]
  },
  {
   "cell_type": "code",
   "execution_count": 3,
   "metadata": {},
   "outputs": [
    {
     "ename": "KeyboardInterrupt",
     "evalue": "",
     "output_type": "error",
     "traceback": [
      "\u001b[0;31m---------------------------------------------------------------------------\u001b[0m",
      "\u001b[0;31mKeyboardInterrupt\u001b[0m                         Traceback (most recent call last)",
      "\u001b[0;32m<ipython-input-3-e99e970f3f64>\u001b[0m in \u001b[0;36m<module>\u001b[0;34m\u001b[0m\n\u001b[0;32m----> 1\u001b[0;31m \u001b[0msteal_next\u001b[0m\u001b[0;34m(\u001b[0m\u001b[0;36m3_014_603\u001b[0m\u001b[0;34m)\u001b[0m\u001b[0;34m\u001b[0m\u001b[0;34m\u001b[0m\u001b[0m\n\u001b[0m",
      "\u001b[0;32m<ipython-input-1-a19b6ada42e9>\u001b[0m in \u001b[0;36msteal_next\u001b[0;34m(elfcount)\u001b[0m\n\u001b[1;32m      6\u001b[0m     \u001b[0;32mwhile\u001b[0m \u001b[0melfcount\u001b[0m \u001b[0;34m>\u001b[0m \u001b[0;36m1\u001b[0m\u001b[0;34m:\u001b[0m\u001b[0;34m\u001b[0m\u001b[0;34m\u001b[0m\u001b[0m\n\u001b[1;32m      7\u001b[0m         \u001b[0mtarget\u001b[0m \u001b[0;34m=\u001b[0m \u001b[0;34m(\u001b[0m\u001b[0mtarget\u001b[0m\u001b[0;34m+\u001b[0m\u001b[0;36m1\u001b[0m\u001b[0;34m)\u001b[0m \u001b[0;34m%\u001b[0m \u001b[0melfcount\u001b[0m\u001b[0;34m\u001b[0m\u001b[0;34m\u001b[0m\u001b[0m\n\u001b[0;32m----> 8\u001b[0;31m         \u001b[0;32mdel\u001b[0m \u001b[0mcircle\u001b[0m\u001b[0;34m[\u001b[0m\u001b[0mtarget\u001b[0m\u001b[0;34m]\u001b[0m\u001b[0;34m\u001b[0m\u001b[0;34m\u001b[0m\u001b[0m\n\u001b[0m\u001b[1;32m      9\u001b[0m         \u001b[0melfcount\u001b[0m \u001b[0;34m-=\u001b[0m \u001b[0;36m1\u001b[0m\u001b[0;34m\u001b[0m\u001b[0;34m\u001b[0m\u001b[0m\n\u001b[1;32m     10\u001b[0m \u001b[0;34m\u001b[0m\u001b[0m\n",
      "\u001b[0;31mKeyboardInterrupt\u001b[0m: "
     ]
    }
   ],
   "source": [
    "steal_next(3_014_603)"
   ]
  },
  {
   "cell_type": "markdown",
   "metadata": {},
   "source": [
    "Hmm, that's not looking good.\n",
    "\n",
    "We've fallen down a classic AoC trap door.\n",
    "\n",
    "In Python, deleting an element from a list is an exceedingly expensive operation, as a large chunk of the list will have to be copied, element by element, to fill the void. For small lists, it's of no consequence. But in our case for every elf removed we have to shuffle millions of list entries.\n",
    "\n",
    "A Python list is an inappropriate data structure for any algorithm making many deletions.\n",
    "\n",
    "So this suddenly doesn't look quite so easy.\n",
    "\n",
    "What data structures offer fast deletes? Trees, graphs, linked lists. We could solve the problem with a circular linked list for sure.\n",
    "\n",
    "However, there is another way -- and that is to use the `blist` Python module."
   ]
  },
  {
   "cell_type": "code",
   "execution_count": 19,
   "metadata": {},
   "outputs": [
    {
     "name": "stdout",
     "output_type": "stream",
     "text": [
      "Collecting package metadata (current_repodata.json): done\n",
      "Solving environment: done\n",
      "\n",
      "# All requested packages already installed.\n",
      "\n"
     ]
    }
   ],
   "source": [
    "import sys\n",
    "!conda install --yes --prefix {sys.prefix} blist"
   ]
  },
  {
   "cell_type": "markdown",
   "metadata": {},
   "source": [
    "This `blist` module gives us a list-like data structure which is implemented as a tree under the hood. It's almost as fast as the native list for indexed access, but whilst also giving us tree-based speed for delete operations. A one-character tweak is required in `steal_next`:"
   ]
  },
  {
   "cell_type": "code",
   "execution_count": 8,
   "metadata": {},
   "outputs": [],
   "source": [
    "from blist import blist"
   ]
  },
  {
   "cell_type": "code",
   "execution_count": 20,
   "metadata": {},
   "outputs": [],
   "source": [
    "def steal_next(elfcount):\n",
    "    circle = blist(range(1, elfcount+1))   # Make a blist instead of a list\n",
    "\n",
    "    target = 0\n",
    "    elfcount = len(circle)\n",
    "    while elfcount > 1:\n",
    "        target = (target+1) % elfcount\n",
    "        del circle[target]\n",
    "        elfcount -= 1\n",
    "\n",
    "    return circle[0]"
   ]
  },
  {
   "cell_type": "code",
   "execution_count": 29,
   "metadata": {},
   "outputs": [],
   "source": [
    "assert steal_next(3_014_603) == 1834903"
   ]
  },
  {
   "cell_type": "markdown",
   "metadata": {},
   "source": [
    "Boom! Blist-ering speeds! Gold star! The linked-list implementation left as an exercise for the interested reader."
   ]
  },
  {
   "cell_type": "markdown",
   "metadata": {},
   "source": [
    "\n",
    "\n",
    "## Part 2\n",
    "\n",
    "Very similar, only a different elf is chosen to steal from. Using the `blist` again, this runs fast"
   ]
  },
  {
   "cell_type": "code",
   "execution_count": 17,
   "metadata": {},
   "outputs": [],
   "source": [
    "def steal_opposite(elfcount=3_014_603):\n",
    "    circle = blist(range(1, elfcount+1))\n",
    "\n",
    "    pos = 0\n",
    "    elfcount = len(circle)\n",
    "    while elfcount > 1:\n",
    "        pos %= elfcount\n",
    "        target = (pos + elfcount // 2) % elfcount\n",
    "        del circle[target]\n",
    "        if target > pos:\n",
    "            pos += 1\n",
    "        elfcount -= 1\n",
    "\n",
    "    return circle[0]"
   ]
  },
  {
   "cell_type": "code",
   "execution_count": 28,
   "metadata": {},
   "outputs": [],
   "source": [
    "assert steal_opposite(3_014_603) == 1420280"
   ]
  },
  {
   "cell_type": "markdown",
   "metadata": {},
   "source": [
    "And that concludes day 19. Lesson of the day: if you're applying brute force and ignorance, understand the behaviour of your data structures.\n",
    "\n",
    "A similar lesson is dealt out in https://adventofcode.com/2018/day/9\n",
    "\n",
    "### Note\n",
    "\n",
    "Using the `blist` approach works perfectly, but if we had decided to solve part 1 with a linked list, we'd be punished in part 2, as we can no longer find the item to remove without stepping through half the list, so a more sophisticated structure would be required."
   ]
  },
  {
   "cell_type": "markdown",
   "metadata": {},
   "source": [
    "# Analytical solution\n",
    "\n",
    "This is the so-called `Josephus` problem: https://en.wikipedia.org/wiki/Josephus_problem, hence the title. There is an excellent deep-dive on the Numberphile YouTube channel on this problem: https://www.youtube.com/watch?v=uCsD3ZGzMgE\n",
    "\n",
    "The Josephus probem has clever solutions. Part 1 is given in the Numberphile video above:"
   ]
  },
  {
   "cell_type": "code",
   "execution_count": null,
   "metadata": {},
   "outputs": [],
   "source": [
    "def part1(n=3_014_603):\n",
    "    return int(f\"{n:b}\"[1:] + \"1\", 2)"
   ]
  },
  {
   "cell_type": "code",
   "execution_count": null,
   "metadata": {},
   "outputs": [],
   "source": [
    "assert part1() == 1834903"
   ]
  },
  {
   "cell_type": "markdown",
   "metadata": {},
   "source": [
    "Part 2 is the general Josephus problem, which can be solved as a recurrence given in the Wikipedia article. Here's a Pythonification:"
   ]
  },
  {
   "cell_type": "code",
   "execution_count": 35,
   "metadata": {},
   "outputs": [],
   "source": [
    "def f(n, p=1):\n",
    "    \"\"\"\n",
    "    Analytical solution to the generic Josephus problem. \n",
    "    See Wikipedia page https://en.wikipedia.org/wiki/Josephus_problem\n",
    "    \"\"\"\n",
    "    while 3*p <= n: \n",
    "        p *= 3\n",
    "    if n == p: \n",
    "        return n\n",
    "    return n - p + max(n - 2*p, 0)"
   ]
  },
  {
   "cell_type": "code",
   "execution_count": 36,
   "metadata": {},
   "outputs": [
    {
     "data": {
      "text/plain": [
       "1420280"
      ]
     },
     "execution_count": 36,
     "metadata": {},
     "output_type": "execute_result"
    }
   ],
   "source": [
    "f(3_014_603)"
   ]
  },
  {
   "cell_type": "code",
   "execution_count": null,
   "metadata": {},
   "outputs": [],
   "source": []
  }
 ],
 "metadata": {
  "kernelspec": {
   "display_name": "Python 3",
   "language": "python",
   "name": "python3"
  },
  "language_info": {
   "codemirror_mode": {
    "name": "ipython",
    "version": 3
   },
   "file_extension": ".py",
   "mimetype": "text/x-python",
   "name": "python",
   "nbconvert_exporter": "python",
   "pygments_lexer": "ipython3",
   "version": "3.7.4"
  }
 },
 "nbformat": 4,
 "nbformat_minor": 2
}
