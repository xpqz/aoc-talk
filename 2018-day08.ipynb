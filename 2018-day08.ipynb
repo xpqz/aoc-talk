{
 "cells": [
  {
   "cell_type": "markdown",
   "metadata": {},
   "source": [
    "# Advent of Code 2018\n",
    "\n",
    "## Day 8: Memory Maneuver\n",
    "\n",
    "\n",
    "https://adventofcode.com/2018/day/8\n",
    "\n",
    "The tree is made up of nodes; a single, outermost node forms the tree's root, and it contains all other nodes in the tree (or contains nodes that contain nodes, and so on).\n",
    "\n",
    "Specifically, a node consists of:\n",
    "\n",
    "* A header, which is always exactly two numbers:\n",
    "    - The quantity of child nodes.\n",
    "    - The quantity of metadata entries.\n",
    "* Zero or more child nodes (as specified in the header).\n",
    "* One or more metadata entries (as specified in the header).\n",
    "\n",
    "Each child node is itself a node that has its own header, child nodes, and metadata. For example:\n",
    "\n",
    "```\n",
    "2 3 0 3 10 11 12 1 1 0 1 99 2 1 1 2\n",
    "A----------------------------------\n",
    "    B----------- C-----------\n",
    "                     D-----```\n"
   ]
  },
  {
   "cell_type": "code",
   "execution_count": 10,
   "metadata": {},
   "outputs": [],
   "source": [
    "(require racket)"
   ]
  },
  {
   "cell_type": "markdown",
   "metadata": {},
   "source": [
    "We're faced with a tree made up of numbers, expressed as a depth-first traversal. Seems like good Racket terrain. First step is to load up the data."
   ]
  },
  {
   "cell_type": "code",
   "execution_count": 2,
   "metadata": {},
   "outputs": [],
   "source": [
    "(define data (map string->number (string-split (first (file->lines \"data/input2018-08.data\")))))"
   ]
  },
  {
   "cell_type": "code",
   "execution_count": 3,
   "metadata": {},
   "outputs": [
    {
     "data": {
      "text/html": [
       "<code>'(9 11 6 3 5 3 3 7 1 6)</code>"
      ],
      "text/plain": [
       "'(9 11 6 3 5 3 3 7 1 6)"
      ]
     },
     "execution_count": 3,
     "metadata": {},
     "output_type": "execute_result"
    }
   ],
   "source": [
    "(take data 10)"
   ]
  },
  {
   "cell_type": "markdown",
   "metadata": {},
   "source": [
    "Looks like we get what we wanted -- a list of numbers.\n",
    "\n",
    "The tree is a node, which has a (potentially empty) set of child-nodes, and a \"metadata\" weight. We can represent this as a Racket `struct`"
   ]
  },
  {
   "cell_type": "code",
   "execution_count": 4,
   "metadata": {},
   "outputs": [],
   "source": [
    "(struct node (children meta) #:transparent)"
   ]
  },
  {
   "cell_type": "markdown",
   "metadata": {},
   "source": [
    "We need to consume the input list of numbers one at a time -- let's use a generator for this"
   ]
  },
  {
   "cell_type": "code",
   "execution_count": 6,
   "metadata": {},
   "outputs": [],
   "source": [
    "(require racket/generator)\n",
    "\n",
    "(define next-item\n",
    "  (generator () (for ([x (in-list data)]) (yield x))))"
   ]
  },
  {
   "cell_type": "markdown",
   "metadata": {},
   "source": [
    "Now we can drill down the data given, recursively constructing nodes."
   ]
  },
  {
   "cell_type": "code",
   "execution_count": 7,
   "metadata": {},
   "outputs": [],
   "source": [
    "(define (read-node)\n",
    "  (cond [(equal? (generator-state next-item) 'done) '()]\n",
    "        [else\n",
    "         (define-values (child-count meta-count) (values (next-item) (next-item)))\n",
    "         (node \n",
    "          (for/list ([n (in-range child-count)]) (read-node))\n",
    "          (for/list ([n (in-range meta-count)]) (next-item)))]))"
   ]
  },
  {
   "cell_type": "code",
   "execution_count": 8,
   "metadata": {},
   "outputs": [],
   "source": [
    "(define tree (read-node))"
   ]
  },
  {
   "cell_type": "markdown",
   "metadata": {},
   "source": [
    "## Part1: What is the sum of all metadata entries?\n",
    "\n",
    "For this we traverse the tree and sum up the meta part of the nodes. We could have done that directly in the `read-node` function if we wanted, but let's keep it separate for clarity."
   ]
  },
  {
   "cell_type": "code",
   "execution_count": 37,
   "metadata": {},
   "outputs": [],
   "source": [
    "(require math) ; sum\n",
    "\n",
    "(define (metadata-sum tree)\n",
    "  ;; The meta data sum is the sum of the current node's meta data list\n",
    "  ;; plus the sum of its childrens' meta data sums.\n",
    "  (cond [(null? tree) 0]\n",
    "        [else\n",
    "         (+ (sum (node-meta tree))\n",
    "            (for/sum ([ch (in-list (node-children tree))])\n",
    "              (metadata-sum ch)))]))"
   ]
  },
  {
   "cell_type": "code",
   "execution_count": 12,
   "metadata": {},
   "outputs": [],
   "source": [
    "(require rackunit)"
   ]
  },
  {
   "cell_type": "code",
   "execution_count": 13,
   "metadata": {},
   "outputs": [],
   "source": [
    "(check-eq? (metadata-sum tree) 44838)"
   ]
  },
  {
   "cell_type": "markdown",
   "metadata": {},
   "source": [
    "Bingo.\n",
    "\n",
    "## Part2: What's the root node value?\n",
    "\n",
    "The value of a node depends on whether it has child nodes.\n",
    "\n",
    "If a node has no child nodes, its value is the sum of its metadata entries.\n",
    "\n",
    "However, if a node does have child nodes, the metadata entries become indexes which refer to those child nodes. A metadata entry of 1 refers to the first child node, 2 to the second, 3 to the third, and so on. The value of this node is the sum of the values of the child nodes referenced by the metadata entries. If a referenced child node does not exist, that reference is skipped. A child node can be referenced multiple time and counts each time it is referenced. A metadata entry of 0 does not refer to any child node.\n",
    "\n",
    "We'll need two functions. Firstly, we need a way to get the node value, and then we need a function to pick out a child node's value by its index."
   ]
  },
  {
   "cell_type": "code",
   "execution_count": 35,
   "metadata": {},
   "outputs": [],
   "source": [
    "(define (node-value tree)\n",
    "  (cond [(null? tree) 0]\n",
    "        [(null? (node-children tree)) (sum (node-meta tree))] ; node has no children: sum-of-meta\n",
    "        [else\n",
    "         (for/sum ([i (in-list (node-meta tree))])            ; sum of indexed child nodes' values\n",
    "           (value@index tree i))]))\n",
    "\n",
    "(define (value@index cur idx)\n",
    "  (cond [(zero? idx) 0]\n",
    "        [(>= (sub1 idx) (length (node-children cur))) 0]\n",
    "        [else \n",
    "         (node-value (list-ref (node-children cur) (sub1 idx)))]))\n"
   ]
  },
  {
   "cell_type": "code",
   "execution_count": 36,
   "metadata": {},
   "outputs": [],
   "source": [
    "(check-eq? (part2 tree) 22198)"
   ]
  },
  {
   "cell_type": "markdown",
   "metadata": {},
   "source": [
    "All done."
   ]
  },
  {
   "cell_type": "code",
   "execution_count": null,
   "metadata": {},
   "outputs": [],
   "source": []
  }
 ],
 "metadata": {
  "kernelspec": {
   "display_name": "Racket",
   "language": "racket",
   "name": "racket"
  },
  "language_info": {
   "codemirror_mode": "scheme",
   "file_extension": ".rkt",
   "mimetype": "text/x-racket",
   "name": "Racket",
   "pygments_lexer": "racket",
   "version": "7.3"
  }
 },
 "nbformat": 4,
 "nbformat_minor": 2
}
